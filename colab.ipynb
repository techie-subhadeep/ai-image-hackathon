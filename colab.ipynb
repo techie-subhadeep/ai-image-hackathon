{
 "cells": [
  {
   "cell_type": "code",
   "execution_count": null,
   "metadata": {},
   "outputs": [],
   "source": [
    "# Following code will launch Fooocus SDXL image generator\n",
    "# It will downlod necessary models\n",
    "\n",
    "!pip install pygit2==1.12.2\n",
    "%cd /content\n",
    "!git clone https://github.com/lllyasviel/Fooocus.git\n",
    "\n",
    "%cd /content/Fooocus/models/checkpoints\n",
    "\n",
    "# Download the Juggernaut Model\n",
    "# !wget -cv https://huggingface.co/RunDiffusion/Juggernaut-X-v10/resolve/main/Juggernaut-X-RunDiffusion-NSFW.safetensors?download=true -O Juggernaut-X-RunDiffusion.safetensors\n",
    "\n",
    "# Download the RealVisXL Model\n",
    "# !wget -cv https://huggingface.co/SG161222/RealVisXL_V4.0/resolve/main/RealVisXL_V4.0.safetensors?download=true -O RealVisXL_V4.0.safetensors\n",
    "\n",
    "# HelloWorld V7\n",
    "!wget -cv https://huggingface.co/misri/leosamsHelloworldXL_helloworldXL70/resolve/main/leosamsHelloworldXL_helloworldXL70.safetensors?download=true -O leosamsHelloworldXL_helloworldXL70.safetensors\n",
    "\n",
    "%cd /content/Fooocus/models/loras\n",
    "# Download the Toyota LoRA\n",
    "!wget -cv https://github.com/techie-subhadeep/ai-image-hackathon/raw/main/models/loras/toyota.safetensors -O toyota.safetensors\n",
    "\n",
    "%cd /content/Fooocus/models/embeddings\n",
    "# Download few Embeddings used to achive realism\n",
    "!wget -cv https://github.com/techie-subhadeep/ai-image-hackathon/raw/main/models/embeddings/OverallDetailXL.safetensors -O OverallDetailXL.safetensors\n",
    "!wget -cv https://github.com/techie-subhadeep/ai-image-hackathon/raw/main/models/embeddings/crpht-4300.pt -O crpht-4300.pt\n",
    "!wget -cv https://github.com/techie-subhadeep/ai-image-hackathon/raw/main/models/embeddings/ziprealism.safetensors -O ziprealism.safetensors\n",
    "!wget -cv https://github.com/techie-subhadeep/ai-image-hackathon/raw/main/models/embeddings/ziprealism_neg.safetensors -O ziprealism_neg.safetensors\n",
    "\n",
    "%cd /content/Fooocus\n",
    "!python entry_with_update.py --share --always-high-vram"
   ]
  },
  {
   "cell_type": "code",
   "execution_count": null,
   "metadata": {},
   "outputs": [
    {
     "ename": "",
     "evalue": "",
     "output_type": "error",
     "traceback": [
      "\u001b[1;31mRunning cells with '.venv (Python 3.11.9)' requires the ipykernel package.\n",
      "\u001b[1;31mRun the following command to install 'ipykernel' into the Python environment. \n",
      "\u001b[1;31mCommand: '/Users/subhadeep/Documents/dev/dev-sync/image-hackathon/.venv/bin/python -m pip install ipykernel -U --force-reinstall'"
     ]
    }
   ],
   "source": [
    "# ZIP the outputs into outputs.zip\n",
    "# Download the outputs.zip from /content/Fooocus directory\n",
    "%cd /content/Fooocus\n",
    "!zip -r outputs.zip outputs"
   ]
  }
 ],
 "metadata": {
  "kernelspec": {
   "display_name": ".venv",
   "language": "python",
   "name": "python3"
  },
  "language_info": {
   "name": "python",
   "version": "3.11.9"
  }
 },
 "nbformat": 4,
 "nbformat_minor": 2
}
