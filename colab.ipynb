{
 "cells": [
  {
   "cell_type": "code",
   "execution_count": null,
   "metadata": {},
   "outputs": [],
   "source": [
    "# Following code will launch Fooocus SDXL image generator\n",
    "# It will downlod necessary models\n",
    "\n",
    "!pip install pygit2==1.12.2\n",
    "%cd /content\n",
    "!git clone https://github.com/lllyasviel/Fooocus.git\n",
    "\n",
    "%cd /content/Fooocus/models/checkpoints\n",
    "!wget -cv https://huggingface.co/RunDiffusion/Juggernaut-X-v10/resolve/main/Juggernaut-X-RunDiffusion-NSFW.safetensors?download=true -O Juggernaut-X-RunDiffusion.safetensors\n",
    "\n",
    "%cd /content/Fooocus/models/loras\n",
    "!wget -cv https://github.com/techie-subhadeep/ai-image-hackathon/raw/main/models/loras/toyota.safetensors -O toyota.safetensors\n",
    "\n",
    "%cd /content/Fooocus/models/embeddings\n",
    "!wget -cv https://github.com/techie-subhadeep/ai-image-hackathon/raw/main/models/embeddings/OverallDetailXL.safetensors -O OverallDetailXL.safetensors\n",
    "!wget -cv https://github.com/techie-subhadeep/ai-image-hackathon/raw/main/models/embeddings/crpht-4300.pt -O crpht-4300.pt\n",
    "!wget -cv https://github.com/techie-subhadeep/ai-image-hackathon/raw/main/models/embeddings/ziprealism.safetensors -O ziprealism.safetensors\n",
    "!wget -cv https://github.com/techie-subhadeep/ai-image-hackathon/raw/main/models/embeddings/ziprealism_neg.safetensors -O ziprealism_neg.safetensors\n",
    "\n",
    "%cd /content/Fooocus\n",
    "!python entry_with_update.py --share --always-high-vram"
   ]
  }
 ],
 "metadata": {
  "kernelspec": {
   "display_name": ".venv",
   "language": "python",
   "name": "python3"
  },
  "language_info": {
   "name": "python",
   "version": "3.11.9"
  }
 },
 "nbformat": 4,
 "nbformat_minor": 2
}
